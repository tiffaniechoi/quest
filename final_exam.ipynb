{
  "nbformat": 4,
  "nbformat_minor": 0,
  "metadata": {
    "colab": {
      "name": "final_exam.ipynb",
      "provenance": [],
      "collapsed_sections": [],
      "include_colab_link": true
    },
    "kernelspec": {
      "name": "python3",
      "display_name": "Python 3"
    },
    "language_info": {
      "name": "python"
    }
  },
  "cells": [
    {
      "cell_type": "markdown",
      "metadata": {
        "id": "view-in-github",
        "colab_type": "text"
      },
      "source": [
        "<a href=\"https://colab.research.google.com/github/tiffaniechoi/quest/blob/main/final_exam.ipynb\" target=\"_parent\"><img src=\"https://colab.research.google.com/assets/colab-badge.svg\" alt=\"Open In Colab\"/></a>"
      ]
    },
    {
      "cell_type": "code",
      "execution_count": 1,
      "metadata": {
        "id": "aWlm_IOicmhF"
      },
      "outputs": [],
      "source": [
        "# BMGT438a/ENES489a - Final Exam - Fall 2021\n",
        "#\n",
        "# Please answer the questions found here in this exam, save this notebook\n",
        "# as a pdf, and upload it to ELMS.\n",
        "#\n",
        "# It may help you think about this as if it were a datathon or a QUEST client\n",
        "# be sure to take a look a the website:\n",
        "# https://prep-response-portal.napsgfoundation.org/datasets/geoplatform::national-bridge-inventory-nbi-bridges/about\n",
        "# to get a better idea of the variables in the full dataset as well as the possible\n",
        "# ways to explore the data\n",
        "# you may also want to look at how a Maryland-only subset can be taken from this full dataset here:\n",
        "# https://data-maryland.opendata.arcgis.com/datasets/maryland-bridge-structures-2\n"
      ]
    },
    {
      "cell_type": "code",
      "source": [
        "# here are some of the libraries you will need but there may be others\n",
        "import pandas as pd\n",
        "import numpy as np\n",
        "import matplotlib.pyplot as plt\n",
        "import warnings \n",
        "import statsmodels.api as sm\n",
        "from scipy import stats\n",
        "from scipy.stats import skew\n",
        "from sklearn.model_selection import train_test_split\n",
        "from sklearn.metrics import (confusion_matrix, accuracy_score)\n",
        "from sklearn.decomposition import PCA\n",
        "\n",
        "\n",
        "from scipy.stats import norm\n",
        "warnings.filterwarnings('ignore')"
      ],
      "metadata": {
        "id": "5Rcaz9EfczWo",
        "colab": {
          "base_uri": "https://localhost:8080/",
          "height": 0
        },
        "outputId": "edf8ea21-8ecb-4c0d-f7a6-d10548305502"
      },
      "execution_count": 2,
      "outputs": [
        {
          "output_type": "stream",
          "name": "stderr",
          "text": [
            "/usr/local/lib/python3.7/dist-packages/statsmodels/tools/_testing.py:19: FutureWarning: pandas.util.testing is deprecated. Use the functions in the public API at pandas.testing instead.\n",
            "  import pandas.util.testing as tm\n"
          ]
        }
      ]
    },
    {
      "cell_type": "code",
      "source": [
        "# we will help you out by looking only at the Maryland subset of the data\n",
        "# This contains data of bridges in Maryland from as late as 1990s to 2018.\n",
        "df = pd.read_csv('MD_Bridge_Data.csv')\n",
        "# while there are many columns here, we can focus on just a few:\n",
        "df = df[['SUFFICIENCY_RATING', 'YEAR', 'ADT_029', 'STRUCTURE_KIND_043A', 'MIN_NAV_CLR_MT_116']]\n",
        "# here is what each variable means:\n",
        "# SUFFICIENCY_RATING:  ratio data 0-100 that measures how sufficient is this structure for the traffic it carries\n",
        "# YEAR:  the year the data was collected\n",
        "# ADT_029:  average daily traffic\n",
        "# STRUCTURE_KIND_043A is categorical and is mapped as follows\n",
        "# 1: Concrete\n",
        "# 2: Concrete cont.\n",
        "# 3: Steel\n",
        "# 4: Steel cont.\n",
        "# 5: PS concrete\n",
        "# 6: PS concrete cont.\n",
        "# 7: Wood or Timber\n",
        "# 8: Masonry\n",
        "# 9: Aluminum/ Iron\n",
        "# 0: Other\n",
        "# MIN_NAV_CLR_MT_116:  bridge clearance"
      ],
      "metadata": {
        "id": "BEg_MIqodFPs"
      },
      "execution_count": 3,
      "outputs": []
    },
    {
      "cell_type": "code",
      "source": [
        "# Question 1:  Take a look at the skewness of the SUFFICIENCY_RATING variable and make\n",
        "# any appropriate transformation in order to make it normal so we can use it for OLS\n",
        "\n",
        "df.skew()\n",
        "df['SUFFICIENCY_RATING'].plot(kind = 'kde')\n",
        "plt.title('SUFFICIENCY_RATING')\n",
        "plt.show()\n",
        "print()\n",
        "normalized_df = (df-df.mean())/df.std()\n",
        "df = normalized_df\n",
        "df['SUFFICIENCY_RATING'].plot(kind = 'kde')\n",
        "plt.title('SUFFICIENCY_RATING Normalized')\n",
        "plt.show()"
      ],
      "metadata": {
        "id": "Bkr8nfV9f6BK",
        "colab": {
          "base_uri": "https://localhost:8080/",
          "height": 562
        },
        "outputId": "77a56c97-f443-4517-ed9e-84bcf79cba73"
      },
      "execution_count": 4,
      "outputs": [
        {
          "output_type": "display_data",
          "data": {
            "image/png": "[encoded data removed]",
            "text/plain": [
              "<Figure size 432x288 with 1 Axes>"
            ]
          },
          "metadata": {
            "needs_background": "light"
          }
        },
        {
          "output_type": "stream",
          "name": "stdout",
          "text": [
            "\n"
          ]
        },
        {
          "output_type": "display_data",
          "data": {
            "image/png": "[encoded data removed]",
            "text/plain": [
              "<Figure size 432x288 with 1 Axes>"
            ]
          },
          "metadata": {
            "needs_background": "light"
          }
        }
      ]
    },
    {
      "cell_type": "code",
      "source": [
        "# Question 2:  Use the categorical variable of STRUCTURE_KIND_043A to create dummy\n",
        "# variables for an OLS\n",
        "pd.get_dummies(df, columns = ['STRUCTURE_KIND_043A'], drop_first=True)\n",
        "\n",
        "YVar = df[['SUFFICIENCY_RATING']]\n",
        "XVar = sm.add_constant(df[['STRUCTURE_KIND_043A']])"
      ],
      "metadata": {
        "id": "YWZA17GPdOoD"
      },
      "execution_count": null,
      "outputs": []
    },
    {
      "cell_type": "code",
      "source": [
        "# Question 3:  Run and OLS using the results from Question 1 as a dependent variable and from\n",
        "# Question 2 as independent variables as well as the other independent variables in the dataframe.\n",
        "\n",
        "LinearModel = sm.OLS(YVar, XVar, missing = 'drop').fit()\n",
        "print(LinearModel.summary())"
      ],
      "metadata": {
        "id": "j_9YN0sRdPlC",
        "colab": {
          "base_uri": "https://localhost:8080/"
        },
        "outputId": "4c7bba79-0e7b-47db-fbd5-666a6461d694"
      },
      "execution_count": null,
      "outputs": [
        {
          "output_type": "stream",
          "name": "stdout",
          "text": [
            "                            OLS Regression Results                            \n",
            "==============================================================================\n",
            "Dep. Variable:     SUFFICIENCY_RATING   R-squared:                       0.002\n",
            "Model:                            OLS   Adj. R-squared:                  0.002\n",
            "Method:                 Least Squares   F-statistic:                     82.03\n",
            "Date:                Sat, 18 Dec 2021   Prob (F-statistic):           1.39e-19\n",
            "Time:                        21:56:50   Log-Likelihood:                -67535.\n",
            "No. Observations:               47625   AIC:                         1.351e+05\n",
            "Df Residuals:                   47623   BIC:                         1.351e+05\n",
            "Df Model:                           1                                         \n",
            "Covariance Type:            nonrobust                                         \n",
            "=======================================================================================\n",
            "                          coef    std err          t      P>|t|      [0.025      0.975]\n",
            "---------------------------------------------------------------------------------------\n",
            "const                8.677e-05      0.005      0.019      0.985      -0.009       0.009\n",
            "STRUCTURE_KIND_043A     0.0415      0.005      9.057      0.000       0.033       0.050\n",
            "==============================================================================\n",
            "Omnibus:                    12607.964   Durbin-Watson:                   1.631\n",
            "Prob(Omnibus):                  0.000   Jarque-Bera (JB):            31960.644\n",
            "Skew:                          -1.452   Prob(JB):                         0.00\n",
            "Kurtosis:                       5.771   Cond. No.                         1.00\n",
            "==============================================================================\n",
            "\n",
            "Warnings:\n",
            "[1] Standard Errors assume that the covariance matrix of the errors is correctly specified.\n"
          ]
        }
      ]
    },
    {
      "cell_type": "code",
      "source": [
        "# Question 4:  Take a look at the residuals from Question 3 and plot the distribution of results.\n",
        "# Are there any problems or concerns?  If yes, what are they?  Would a multicolinarity test help?\n",
        "\n",
        "## Yes there are problems, the R-squared value is 0.002, which indicates low \n",
        "## correlation between independent and dependent variables. A correlation matrix would help. \n",
        "\n",
        "LinearModel.resid.plot.kde()\n",
        "\n",
        "df.corr()"
      ],
      "metadata": {
        "id": "xGSPPm2Mfjf7",
        "colab": {
          "base_uri": "https://localhost:8080/",
          "height": 454
        },
        "outputId": "2836ae3b-1de3-413b-e2e7-bd8d35662433"
      },
      "execution_count": null,
      "outputs": [
        {
          "output_type": "execute_result",
          "data": {
            "text/html": [
              "\n",
              "  <div id=\"df-d1a8fa48-9c53-4dc7-85f8-86c71857b892\">\n",
              "    <div class=\"colab-df-container\">\n",
              "      <div>\n",
              "<style scoped>\n",
              "    .dataframe tbody tr th:only-of-type {\n",
              "        vertical-align: middle;\n",
              "    }\n",
              "\n",
              "    .dataframe tbody tr th {\n",
              "        vertical-align: top;\n",
              "    }\n",
              "\n",
              "    .dataframe thead th {\n",
              "        text-align: right;\n",
              "    }\n",
              "</style>\n",
              "<table border=\"1\" class=\"dataframe\">\n",
              "  <thead>\n",
              "    <tr style=\"text-align: right;\">\n",
              "      <th></th>\n",
              "      <th>SUFFICIENCY_RATING</th>\n",
              "      <th>YEAR</th>\n",
              "      <th>ADT_029</th>\n",
              "      <th>STRUCTURE_KIND_043A</th>\n",
              "      <th>MIN_NAV_CLR_MT_116</th>\n",
              "    </tr>\n",
              "  </thead>\n",
              "  <tbody>\n",
              "    <tr>\n",
              "      <th>SUFFICIENCY_RATING</th>\n",
              "      <td>1.000000</td>\n",
              "      <td>0.024541</td>\n",
              "      <td>-0.041821</td>\n",
              "      <td>0.041468</td>\n",
              "      <td>0.026265</td>\n",
              "    </tr>\n",
              "    <tr>\n",
              "      <th>YEAR</th>\n",
              "      <td>0.024541</td>\n",
              "      <td>1.000000</td>\n",
              "      <td>0.009227</td>\n",
              "      <td>0.014294</td>\n",
              "      <td>-0.011739</td>\n",
              "    </tr>\n",
              "    <tr>\n",
              "      <th>ADT_029</th>\n",
              "      <td>-0.041821</td>\n",
              "      <td>0.009227</td>\n",
              "      <td>1.000000</td>\n",
              "      <td>-0.015045</td>\n",
              "      <td>-0.045457</td>\n",
              "    </tr>\n",
              "    <tr>\n",
              "      <th>STRUCTURE_KIND_043A</th>\n",
              "      <td>0.041468</td>\n",
              "      <td>0.014294</td>\n",
              "      <td>-0.015045</td>\n",
              "      <td>1.000000</td>\n",
              "      <td>0.111792</td>\n",
              "    </tr>\n",
              "    <tr>\n",
              "      <th>MIN_NAV_CLR_MT_116</th>\n",
              "      <td>0.026265</td>\n",
              "      <td>-0.011739</td>\n",
              "      <td>-0.045457</td>\n",
              "      <td>0.111792</td>\n",
              "      <td>1.000000</td>\n",
              "    </tr>\n",
              "  </tbody>\n",
              "</table>\n",
              "</div>\n",
              "      <button class=\"colab-df-convert\" onclick=\"convertToInteractive('df-d1a8fa48-9c53-4dc7-85f8-86c71857b892')\"\n",
              "              title=\"Convert this dataframe to an interactive table.\"\n",
              "              style=\"display:none;\">\n",
              "        \n",
              "  <svg xmlns=\"http://www.w3.org/2000/svg\" height=\"24px\"viewBox=\"0 0 24 24\"\n",
              "       width=\"24px\">\n",
              "    <path d=\"M0 0h24v24H0V0z\" fill=\"none\"/>\n",
              "    <path d=\"M18.56 5.44l.94 2.06.94-2.06 2.06-.94-2.06-.94-.94-2.06-.94 2.06-2.06.94zm-11 1L8.5 8.5l.94-2.06 2.06-.94-2.06-.94L8.5 2.5l-.94 2.06-2.06.94zm10 10l.94 2.06.94-2.06 2.06-.94-2.06-.94-.94-2.06-.94 2.06-2.06.94z\"/><path d=\"M17.41 7.96l-1.37-1.37c-.4-.4-.92-.59-1.43-.59-.52 0-1.04.2-1.43.59L10.3 9.45l-7.72 7.72c-.78.78-.78 2.05 0 2.83L4 21.41c.39.39.9.59 1.41.59.51 0 1.02-.2 1.41-.59l7.78-7.78 2.81-2.81c.8-.78.8-2.07 0-2.86zM5.41 20L4 18.59l7.72-7.72 1.47 1.35L5.41 20z\"/>\n",
              "  </svg>\n",
              "      </button>\n",
              "      \n",
              "  <style>\n",
              "    .colab-df-container {\n",
              "      display:flex;\n",
              "      flex-wrap:wrap;\n",
              "      gap: 12px;\n",
              "    }\n",
              "\n",
              "    .colab-df-convert {\n",
              "      background-color: #E8F0FE;\n",
              "      border: none;\n",
              "      border-radius: 50%;\n",
              "      cursor: pointer;\n",
              "      display: none;\n",
              "      fill: #1967D2;\n",
              "      height: 32px;\n",
              "      padding: 0 0 0 0;\n",
              "      width: 32px;\n",
              "    }\n",
              "\n",
              "    .colab-df-convert:hover {\n",
              "      background-color: #E2EBFA;\n",
              "      box-shadow: 0px 1px 2px rgba(60, 64, 67, 0.3), 0px 1px 3px 1px rgba(60, 64, 67, 0.15);\n",
              "      fill: #174EA6;\n",
              "    }\n",
              "\n",
              "    [theme=dark] .colab-df-convert {\n",
              "      background-color: #3B4455;\n",
              "      fill: #D2E3FC;\n",
              "    }\n",
              "\n",
              "    [theme=dark] .colab-df-convert:hover {\n",
              "      background-color: #434B5C;\n",
              "      box-shadow: 0px 1px 3px 1px rgba(0, 0, 0, 0.15);\n",
              "      filter: drop-shadow(0px 1px 2px rgba(0, 0, 0, 0.3));\n",
              "      fill: #FFFFFF;\n",
              "    }\n",
              "  </style>\n",
              "\n",
              "      <script>\n",
              "        const buttonEl =\n",
              "          document.querySelector('#df-d1a8fa48-9c53-4dc7-85f8-86c71857b892 button.colab-df-convert');\n",
              "        buttonEl.style.display =\n",
              "          google.colab.kernel.accessAllowed ? 'block' : 'none';\n",
              "\n",
              "        async function convertToInteractive(key) {\n",
              "          const element = document.querySelector('#df-d1a8fa48-9c53-4dc7-85f8-86c71857b892');\n",
              "          const dataTable =\n",
              "            await google.colab.kernel.invokeFunction('convertToInteractive',\n",
              "                                                     [key], {});\n",
              "          if (!dataTable) return;\n",
              "\n",
              "          const docLinkHtml = 'Like what you see? Visit the ' +\n",
              "            '<a target=\"_blank\" href=https://colab.research.google.com/notebooks/data_table.ipynb>data table notebook</a>'\n",
              "            + ' to learn more about interactive tables.';\n",
              "          element.innerHTML = '';\n",
              "          dataTable['output_type'] = 'display_data';\n",
              "          await google.colab.output.renderOutput(dataTable, element);\n",
              "          const docLink = document.createElement('div');\n",
              "          docLink.innerHTML = docLinkHtml;\n",
              "          element.appendChild(docLink);\n",
              "        }\n",
              "      </script>\n",
              "    </div>\n",
              "  </div>\n",
              "  "
            ],
            "text/plain": [
              "                     SUFFICIENCY_RATING  ...  MIN_NAV_CLR_MT_116\n",
              "SUFFICIENCY_RATING             1.000000  ...            0.026265\n",
              "YEAR                           0.024541  ...           -0.011739\n",
              "ADT_029                       -0.041821  ...           -0.045457\n",
              "STRUCTURE_KIND_043A            0.041468  ...            0.111792\n",
              "MIN_NAV_CLR_MT_116             0.026265  ...            1.000000\n",
              "\n",
              "[5 rows x 5 columns]"
            ]
          },
          "metadata": {},
          "execution_count": 114
        },
        {
          "output_type": "display_data",
          "data": {
            "image/png": "[encoded data removed]",
            "text/plain": [
              "<Figure size 432x288 with 1 Axes>"
            ]
          },
          "metadata": {
            "needs_background": "light"
          }
        }
      ]
    },
    {
      "cell_type": "code",
      "source": [
        "# Question 5:  Do a data transformation of the SUFFICIENCY_RATING to turn it into a categorical\n",
        "# variable that is 0 if SUFFICIENCY_RATING < 85 and 1 if SUFFICIENCY_RATING >= 85\n",
        "\n",
        "for idx, row in df.iterrows():\n",
        "  if (df.at[idx,'SUFFICIENCY_RATING']) < 85:\n",
        "    df.loc[idx, 'SUFFICIENCY_RATING'] = 0\n",
        "  else:\n",
        "    df.loc[idx, 'SUFFICIENCY_RATING'] = 1"
      ],
      "metadata": {
        "id": "yqy4V1rWxtB_"
      },
      "execution_count": null,
      "outputs": []
    },
    {
      "cell_type": "code",
      "source": [
        "# Question 6:  Split the dataframe into two parts:  training (80%) and a testing (20%)\n",
        "train, test = train_test_split(df, test_size = 0.2, random_state = 42)"
      ],
      "metadata": {
        "id": "8y5s3zUfyBBs"
      },
      "execution_count": null,
      "outputs": []
    },
    {
      "cell_type": "code",
      "source": [
        "# Question 7:  Run a logistic regression of the training data with the dependent variable coming\n",
        "# from Question 5 and the independent variables that you used in Question 3\n",
        "fn = ['STRUCTURE_KIND_043A']\n",
        "cn = ['SUFFICIENCY_RATING']\n",
        "\n",
        "x_train = train[fn]\n",
        "y_train = train[cn]\n",
        "x_test = test[fn]\n",
        "y_test = test[cn]\n",
        "\n",
        "LogisticModel = sm.Logit(y_train, x_train).fit()\n",
        "print(LogisticModel.summary())"
      ],
      "metadata": {
        "id": "F9ZMp79EyLHq",
        "colab": {
          "base_uri": "https://localhost:8080/"
        },
        "outputId": "f3e649af-813e-4658-908f-ebc147794cf0"
      },
      "execution_count": null,
      "outputs": [
        {
          "output_type": "stream",
          "name": "stdout",
          "text": [
            "Optimization terminated successfully.\n",
            "         Current function value: 0.693112\n",
            "         Iterations 3\n",
            "                           Logit Regression Results                           \n",
            "==============================================================================\n",
            "Dep. Variable:     SUFFICIENCY_RATING   No. Observations:                42421\n",
            "Model:                          Logit   Df Residuals:                    42420\n",
            "Method:                           MLE   Df Model:                            0\n",
            "Date:                Sat, 18 Dec 2021   Pseudo R-squ.:                  -1.103\n",
            "Time:                        21:53:39   Log-Likelihood:                -29402.\n",
            "converged:                       True   LL-Null:                       -13980.\n",
            "Covariance Type:            nonrobust   LLR p-value:                       nan\n",
            "=======================================================================================\n",
            "                          coef    std err          z      P>|z|      [0.025      0.975]\n",
            "---------------------------------------------------------------------------------------\n",
            "STRUCTURE_KIND_043A     0.0168      0.010      1.734      0.083      -0.002       0.036\n",
            "=======================================================================================\n"
          ]
        }
      ]
    },
    {
      "cell_type": "code",
      "source": [
        "# Question 8:  What is the accuracy of this model?  What does the confusion matrix look like?\n",
        "\n",
        "YPred = LogisticModel.predict(x_test)\n",
        "compare = pd.concat([y_test, YPred], axis=1)\n",
        "compare = compare.rename(columns={0: 'prediction'})\n",
        "compare['difference'] = compare['SUFFICIENCY_RATING'] - compare['prediction']\n",
        "compare.sort_values(by=['difference'])\n",
        "\n",
        "prediction = list(map(round, YPred)) \n",
        "\n",
        "# confusion matrix \n",
        "cm = confusion_matrix(y_test, prediction)  \n",
        "\n",
        "#print (\"Confusion Matrix : \\n\", cm)  \n",
        "print('This is the test accuracy of the model: {:.2%}'.format(accuracy_score(y_test, prediction)))\n",
        "\n",
        "print('\\nThis is what the confusion matrix looks like: ')\n",
        "plt.imshow(cm)\n",
        "plt.title(\"Confusion Matrix\")\n",
        "plt.colorbar()\n",
        "plt.xlabel(\"Predicted\")\n",
        "plt.ylabel(\"Actual\")\n",
        "plt.show()"
      ],
      "metadata": {
        "id": "gI61rFB2yUso",
        "colab": {
          "base_uri": "https://localhost:8080/",
          "height": 347
        },
        "outputId": "fb3f3be3-c2cb-4201-a242-2c24d7e0cccd"
      },
      "execution_count": null,
      "outputs": [
        {
          "output_type": "stream",
          "name": "stdout",
          "text": [
            "This is the test accuracy of the model: 63.79%\n",
            "\n",
            "This is what the confusion matrix looks like: \n"
          ]
        },
        {
          "output_type": "display_data",
          "data": {
            "image/png": "[encoded data removed]",
            "text/plain": [
              "<Figure size 432x288 with 2 Axes>"
            ]
          },
          "metadata": {
            "needs_background": "light"
          }
        }
      ]
    },
    {
      "cell_type": "code",
      "source": [
        "# Question 9:  If you go back to the full dataframe:\n",
        "# df = pd.read_csv('MD_Bridge_Data.csv')\n",
        "# you will note that there are actually 143 columns.  Pick 10 of these columns and reduce the \n",
        "# number of dimensions to two.\n",
        "\n",
        "df = pd.read_csv('MD_Bridge_Data.csv')\n",
        "\n",
        "new_df = pd.DataFrame()\n",
        "\n",
        "new_df['RECORD_TYPE_005A'] = df['RECORD_TYPE_005A']\n",
        "new_df['ROUTE_PREFIX_005B'] = df['ROUTE_PREFIX_005B']\n",
        "new_df['SERVICE_LEVEL_005C'] = df['SERVICE_LEVEL_005C']\n",
        "new_df['MAINTENANCE_021'] = df['MAINTENANCE_021']\n",
        "new_df['OWNER_022'] = df['OWNER_022']\n",
        "new_df['HISTORY_037'] = df['HISTORY_037']\n",
        "new_df['SERVICE_ON_042A'] = df['SERVICE_ON_042A']\n",
        "new_df['SERVICE_UND_042B'] = df['SERVICE_UND_042B']\n",
        "new_df['STRUCTURE_KIND_043A'] = df['STRUCTURE_KIND_043A']\n",
        "new_df['STRUCTURE_TYPE_043B'] = df['STRUCTURE_TYPE_043B']\n",
        "\n",
        "x = new_df.values\n",
        "\n",
        "pca = PCA(n_components=2)\n",
        "\n",
        "principalComponents = pca.fit_transform(x)\n",
        "\n",
        "principalDf = pd.DataFrame(data = principalComponents\n",
        "             , columns = ['Principal component %s' % (x+1) for x in range(0, len(pca.components_))])\n",
        "\n",
        "\n",
        "principalDf"
      ],
      "metadata": {
        "id": "6BQUxSiByiZ2",
        "colab": {
          "base_uri": "https://localhost:8080/",
          "height": 424
        },
        "outputId": "27c44f6a-d3d4-4107-ce7d-68a8404ddd37"
      },
      "execution_count": null,
      "outputs": [
        {
          "output_type": "execute_result",
          "data": {
            "text/html": [
              "\n",
              "  <div id=\"df-e4501d65-7e41-4cba-8dcf-d5f615ba703e\">\n",
              "    <div class=\"colab-df-container\">\n",
              "      <div>\n",
              "<style scoped>\n",
              "    .dataframe tbody tr th:only-of-type {\n",
              "        vertical-align: middle;\n",
              "    }\n",
              "\n",
              "    .dataframe tbody tr th {\n",
              "        vertical-align: top;\n",
              "    }\n",
              "\n",
              "    .dataframe thead th {\n",
              "        text-align: right;\n",
              "    }\n",
              "</style>\n",
              "<table border=\"1\" class=\"dataframe\">\n",
              "  <thead>\n",
              "    <tr style=\"text-align: right;\">\n",
              "      <th></th>\n",
              "      <th>Principal component 1</th>\n",
              "      <th>Principal component 2</th>\n",
              "    </tr>\n",
              "  </thead>\n",
              "  <tbody>\n",
              "    <tr>\n",
              "      <th>0</th>\n",
              "      <td>96.770148</td>\n",
              "      <td>0.158532</td>\n",
              "    </tr>\n",
              "    <tr>\n",
              "      <th>1</th>\n",
              "      <td>96.827769</td>\n",
              "      <td>-1.020101</td>\n",
              "    </tr>\n",
              "    <tr>\n",
              "      <th>2</th>\n",
              "      <td>95.968152</td>\n",
              "      <td>17.194237</td>\n",
              "    </tr>\n",
              "    <tr>\n",
              "      <th>3</th>\n",
              "      <td>96.777486</td>\n",
              "      <td>0.007907</td>\n",
              "    </tr>\n",
              "    <tr>\n",
              "      <th>4</th>\n",
              "      <td>96.817378</td>\n",
              "      <td>-0.618668</td>\n",
              "    </tr>\n",
              "    <tr>\n",
              "      <th>...</th>\n",
              "      <td>...</td>\n",
              "      <td>...</td>\n",
              "    </tr>\n",
              "    <tr>\n",
              "      <th>53022</th>\n",
              "      <td>97.514833</td>\n",
              "      <td>17.077951</td>\n",
              "    </tr>\n",
              "    <tr>\n",
              "      <th>53023</th>\n",
              "      <td>98.347744</td>\n",
              "      <td>-0.716924</td>\n",
              "    </tr>\n",
              "    <tr>\n",
              "      <th>53024</th>\n",
              "      <td>97.514833</td>\n",
              "      <td>17.077951</td>\n",
              "    </tr>\n",
              "    <tr>\n",
              "      <th>53025</th>\n",
              "      <td>97.514833</td>\n",
              "      <td>17.077951</td>\n",
              "    </tr>\n",
              "    <tr>\n",
              "      <th>53026</th>\n",
              "      <td>98.312819</td>\n",
              "      <td>0.081651</td>\n",
              "    </tr>\n",
              "  </tbody>\n",
              "</table>\n",
              "<p>53027 rows × 2 columns</p>\n",
              "</div>\n",
              "      <button class=\"colab-df-convert\" onclick=\"convertToInteractive('df-e4501d65-7e41-4cba-8dcf-d5f615ba703e')\"\n",
              "              title=\"Convert this dataframe to an interactive table.\"\n",
              "              style=\"display:none;\">\n",
              "        \n",
              "  <svg xmlns=\"http://www.w3.org/2000/svg\" height=\"24px\"viewBox=\"0 0 24 24\"\n",
              "       width=\"24px\">\n",
              "    <path d=\"M0 0h24v24H0V0z\" fill=\"none\"/>\n",
              "    <path d=\"M18.56 5.44l.94 2.06.94-2.06 2.06-.94-2.06-.94-.94-2.06-.94 2.06-2.06.94zm-11 1L8.5 8.5l.94-2.06 2.06-.94-2.06-.94L8.5 2.5l-.94 2.06-2.06.94zm10 10l.94 2.06.94-2.06 2.06-.94-2.06-.94-.94-2.06-.94 2.06-2.06.94z\"/><path d=\"M17.41 7.96l-1.37-1.37c-.4-.4-.92-.59-1.43-.59-.52 0-1.04.2-1.43.59L10.3 9.45l-7.72 7.72c-.78.78-.78 2.05 0 2.83L4 21.41c.39.39.9.59 1.41.59.51 0 1.02-.2 1.41-.59l7.78-7.78 2.81-2.81c.8-.78.8-2.07 0-2.86zM5.41 20L4 18.59l7.72-7.72 1.47 1.35L5.41 20z\"/>\n",
              "  </svg>\n",
              "      </button>\n",
              "      \n",
              "  <style>\n",
              "    .colab-df-container {\n",
              "      display:flex;\n",
              "      flex-wrap:wrap;\n",
              "      gap: 12px;\n",
              "    }\n",
              "\n",
              "    .colab-df-convert {\n",
              "      background-color: #E8F0FE;\n",
              "      border: none;\n",
              "      border-radius: 50%;\n",
              "      cursor: pointer;\n",
              "      display: none;\n",
              "      fill: #1967D2;\n",
              "      height: 32px;\n",
              "      padding: 0 0 0 0;\n",
              "      width: 32px;\n",
              "    }\n",
              "\n",
              "    .colab-df-convert:hover {\n",
              "      background-color: #E2EBFA;\n",
              "      box-shadow: 0px 1px 2px rgba(60, 64, 67, 0.3), 0px 1px 3px 1px rgba(60, 64, 67, 0.15);\n",
              "      fill: #174EA6;\n",
              "    }\n",
              "\n",
              "    [theme=dark] .colab-df-convert {\n",
              "      background-color: #3B4455;\n",
              "      fill: #D2E3FC;\n",
              "    }\n",
              "\n",
              "    [theme=dark] .colab-df-convert:hover {\n",
              "      background-color: #434B5C;\n",
              "      box-shadow: 0px 1px 3px 1px rgba(0, 0, 0, 0.15);\n",
              "      filter: drop-shadow(0px 1px 2px rgba(0, 0, 0, 0.3));\n",
              "      fill: #FFFFFF;\n",
              "    }\n",
              "  </style>\n",
              "\n",
              "      <script>\n",
              "        const buttonEl =\n",
              "          document.querySelector('#df-e4501d65-7e41-4cba-8dcf-d5f615ba703e button.colab-df-convert');\n",
              "        buttonEl.style.display =\n",
              "          google.colab.kernel.accessAllowed ? 'block' : 'none';\n",
              "\n",
              "        async function convertToInteractive(key) {\n",
              "          const element = document.querySelector('#df-e4501d65-7e41-4cba-8dcf-d5f615ba703e');\n",
              "          const dataTable =\n",
              "            await google.colab.kernel.invokeFunction('convertToInteractive',\n",
              "                                                     [key], {});\n",
              "          if (!dataTable) return;\n",
              "\n",
              "          const docLinkHtml = 'Like what you see? Visit the ' +\n",
              "            '<a target=\"_blank\" href=https://colab.research.google.com/notebooks/data_table.ipynb>data table notebook</a>'\n",
              "            + ' to learn more about interactive tables.';\n",
              "          element.innerHTML = '';\n",
              "          dataTable['output_type'] = 'display_data';\n",
              "          await google.colab.output.renderOutput(dataTable, element);\n",
              "          const docLink = document.createElement('div');\n",
              "          docLink.innerHTML = docLinkHtml;\n",
              "          element.appendChild(docLink);\n",
              "        }\n",
              "      </script>\n",
              "    </div>\n",
              "  </div>\n",
              "  "
            ],
            "text/plain": [
              "       Principal component 1  Principal component 2\n",
              "0                  96.770148               0.158532\n",
              "1                  96.827769              -1.020101\n",
              "2                  95.968152              17.194237\n",
              "3                  96.777486               0.007907\n",
              "4                  96.817378              -0.618668\n",
              "...                      ...                    ...\n",
              "53022              97.514833              17.077951\n",
              "53023              98.347744              -0.716924\n",
              "53024              97.514833              17.077951\n",
              "53025              97.514833              17.077951\n",
              "53026              98.312819               0.081651\n",
              "\n",
              "[53027 rows x 2 columns]"
            ]
          },
          "metadata": {},
          "execution_count": 119
        }
      ]
    },
    {
      "cell_type": "code",
      "source": [
        "# Question 10:  When is or was your client close-out meeting?  If it happened already, how did it\n",
        "# go?  If you haven't done it yet, when will it be and what do you expect to come of it?\n",
        "\n",
        "# Our client close-out meeting was on December 17 at 4:30pm. It went well! We went over our poster \n",
        "# and appendix of our presentation. We followed up with sending over all our deliverables."
      ],
      "metadata": {
        "id": "hoDgMbjeyuiM"
      },
      "execution_count": null,
      "outputs": []
    },
    {
      "cell_type": "code",
      "source": [
        "# Don't forget to complete the final peer review!\n",
        "\n",
        "# Done!"
      ],
      "metadata": {
        "id": "nqGQdH1LyxBD"
      },
      "execution_count": null,
      "outputs": []
    },
    {
      "cell_type": "code",
      "source": [
        ""
      ],
      "metadata": {
        "id": "50EvBSHryya7"
      },
      "execution_count": null,
      "outputs": []
    }
  ]
}